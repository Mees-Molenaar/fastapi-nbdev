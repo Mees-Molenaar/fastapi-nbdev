{
 "cells": [
  {
   "cell_type": "markdown",
   "metadata": {},
   "source": [
    "# aRoute\n",
    "\n",
    "> A second route for the FastAPI app"
   ]
  },
  {
   "cell_type": "code",
   "execution_count": null,
   "metadata": {},
   "outputs": [],
   "source": [
    "#| default_exp routers/aroute"
   ]
  },
  {
   "cell_type": "code",
   "execution_count": null,
   "metadata": {},
   "outputs": [],
   "source": [
    "#| hide\n",
    "from nbdev.showdoc import *"
   ]
  },
  {
   "cell_type": "code",
   "execution_count": null,
   "metadata": {},
   "outputs": [],
   "source": [
    "#| export\n",
    "from fastapi import APIRouter"
   ]
  },
  {
   "cell_type": "markdown",
   "metadata": {},
   "source": [
    "# Router\n",
    "\n",
    "Here a APIRouter is created, which acts as a Router you can include to the main App `00_main.ipynb`. This is a simple example to show you what the capabilities are. [Click here](https://fastapi.tiangolo.com/tutorial/bigger-applications/), for more information on Router."
   ]
  },
  {
   "cell_type": "code",
   "execution_count": null,
   "metadata": {},
   "outputs": [],
   "source": [
    "#| export\n",
    "router = APIRouter(prefix='/aroute')"
   ]
  },
  {
   "cell_type": "code",
   "execution_count": null,
   "metadata": {},
   "outputs": [],
   "source": [
    "#| export\n",
    "@router.get('/')\n",
    "async def aroute():\n",
    "    return {\"message\": \"Welcome in aroute!\"}"
   ]
  },
  {
   "cell_type": "code",
   "execution_count": null,
   "metadata": {},
   "outputs": [],
   "source": [
    "#| hide\n",
    "import nbdev; nbdev.nbdev_export()"
   ]
  },
  {
   "cell_type": "markdown",
   "metadata": {},
   "source": [
    "## Testing aroute\n",
    "\n",
    "Now we want to test whether or not this route works as intented. We will use the `request` library to do this. \n",
    "\n",
    "Note: It is important that you run are running the app before you run the test!"
   ]
  },
  {
   "cell_type": "code",
   "execution_count": null,
   "metadata": {},
   "outputs": [],
   "source": [
    "#| hide\n",
    "import requests\n",
    "from fastcore.test import *\n",
    "\n",
    "localhost_url = \"http://localhost:8000\""
   ]
  },
  {
   "cell_type": "code",
   "execution_count": null,
   "metadata": {},
   "outputs": [],
   "source": [
    "response = requests.get(f\"{localhost_url}/aroute\")"
   ]
  },
  {
   "cell_type": "code",
   "execution_count": null,
   "metadata": {},
   "outputs": [],
   "source": [
    "test_eq(response.status_code, 200)\n",
    "test_eq(response.json(), {\"message\": \"Welcome in aroute!\"})"
   ]
  }
 ],
 "metadata": {
  "kernelspec": {
   "display_name": "venv",
   "language": "python",
   "name": "python3"
  },
  "language_info": {
   "name": "python",
   "version": "3.9.13 (main, May 24 2022, 21:13:51) \n[Clang 13.1.6 (clang-1316.0.21.2)]"
  },
  "vscode": {
   "interpreter": {
    "hash": "ae24e1117e5e0503f592eefbdd9a46e93ce9d17716ad7b9a2b8df47010564a5a"
   }
  }
 },
 "nbformat": 4,
 "nbformat_minor": 2
}
