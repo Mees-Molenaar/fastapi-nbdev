{
 "cells": [
  {
   "cell_type": "markdown",
   "metadata": {},
   "source": [
    "# fastapi-nbdev\n",
    "\n",
    "> Proof of concept of using FastAPI with Nbdev"
   ]
  },
  {
   "cell_type": "markdown",
   "metadata": {},
   "source": [
    "A small proof of concept FastaApi that shows how to create a really simple app with one route via the [routers mechanism](https://fastapi.tiangolo.com/tutorial/bigger-applications/#apirouter). \n",
    "\n",
    "If there are any questions, do not hesitate to set up an issue 😊."
   ]
  },
  {
   "cell_type": "markdown",
   "metadata": {},
   "source": [
    "## Install"
   ]
  },
  {
   "cell_type": "markdown",
   "metadata": {},
   "source": [
    "```sh\n",
    "git clone https://github.com/MeesMolenaar/fastapi-nbdev.git\n",
    "```"
   ]
  },
  {
   "cell_type": "markdown",
   "metadata": {},
   "source": [
    "## Running the Application\n",
    "\n",
    "Whenever you change main, a route or add a route. You will have to run `nbdev_prepare` so that your package is updated. \n",
    "\n",
    "> nbdev_prepare: Export, test, and clean notebooks, and render README if needed\n",
    "\n",
    "After running above comamand, you can start the FastAPI app with the following command from the root folder (i.e. fastapi-nbdev):\n",
    "\n",
    "> uvicorn fastapi_nbdev.main:app --reload"
   ]
  }
 ],
 "metadata": {
  "kernelspec": {
   "display_name": "Python 3.9.13 ('venv': venv)",
   "language": "python",
   "name": "python3"
  }
 },
 "nbformat": 4,
 "nbformat_minor": 4
}
